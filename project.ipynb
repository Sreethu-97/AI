{
  "cells": [
    {
      "cell_type": "markdown",
      "metadata": {
        "id": "view-in-github",
        "colab_type": "text"
      },
      "source": [
        "<a href=\"https://colab.research.google.com/github/Sreethu-97/AI/blob/master/project.ipynb\" target=\"_parent\"><img src=\"https://colab.research.google.com/assets/colab-badge.svg\" alt=\"Open In Colab\"/></a>"
      ]
    },
    {
      "cell_type": "code",
      "source": [
        "import pandas as pd\n",
        "data=pd.read_csv('/content/C__Users_Admin_Desktop_file3.csv')"
      ],
      "metadata": {
        "id": "wYlhXpsckZpx"
      },
      "execution_count": null,
      "outputs": []
    },
    {
      "cell_type": "code",
      "source": [
        "data"
      ],
      "metadata": {
        "colab": {
          "base_uri": "https://localhost:8080/",
          "height": 332
        },
        "id": "8zNsBDEUlCcV",
        "outputId": "94fcbbe8-8975-41e0-bc80-aff14f354e0a"
      },
      "execution_count": null,
      "outputs": [
        {
          "output_type": "execute_result",
          "data": {
            "text/plain": [
              "   Unnamed: 0                                                  0\n",
              "0           0  In South Texas, Democrats push back as Latina ...\n",
              "1           1  Sen. Lindsey Graham asks Supreme Court to bloc...\n",
              "2           2  The decider: Jill Biden's unparalleled influen...\n",
              "3           3  Liberal parents are firing back at conservativ...\n",
              "4           4  Mystery prevails as former Chinese leader esco...\n",
              "5           5  The world is running out of helium. Here's why...\n",
              "6           6  The federal government won't tax your student ...\n",
              "7           7  Twitter tells staff not to believe 'rumors' ab...\n",
              "8           8  How American families are dealing with the new..."
            ],
            "text/html": [
              "\n",
              "  <div id=\"df-689139aa-1d5c-4237-b07a-f7b0c9855fe1\">\n",
              "    <div class=\"colab-df-container\">\n",
              "      <div>\n",
              "<style scoped>\n",
              "    .dataframe tbody tr th:only-of-type {\n",
              "        vertical-align: middle;\n",
              "    }\n",
              "\n",
              "    .dataframe tbody tr th {\n",
              "        vertical-align: top;\n",
              "    }\n",
              "\n",
              "    .dataframe thead th {\n",
              "        text-align: right;\n",
              "    }\n",
              "</style>\n",
              "<table border=\"1\" class=\"dataframe\">\n",
              "  <thead>\n",
              "    <tr style=\"text-align: right;\">\n",
              "      <th></th>\n",
              "      <th>Unnamed: 0</th>\n",
              "      <th>0</th>\n",
              "    </tr>\n",
              "  </thead>\n",
              "  <tbody>\n",
              "    <tr>\n",
              "      <th>0</th>\n",
              "      <td>0</td>\n",
              "      <td>In South Texas, Democrats push back as Latina ...</td>\n",
              "    </tr>\n",
              "    <tr>\n",
              "      <th>1</th>\n",
              "      <td>1</td>\n",
              "      <td>Sen. Lindsey Graham asks Supreme Court to bloc...</td>\n",
              "    </tr>\n",
              "    <tr>\n",
              "      <th>2</th>\n",
              "      <td>2</td>\n",
              "      <td>The decider: Jill Biden's unparalleled influen...</td>\n",
              "    </tr>\n",
              "    <tr>\n",
              "      <th>3</th>\n",
              "      <td>3</td>\n",
              "      <td>Liberal parents are firing back at conservativ...</td>\n",
              "    </tr>\n",
              "    <tr>\n",
              "      <th>4</th>\n",
              "      <td>4</td>\n",
              "      <td>Mystery prevails as former Chinese leader esco...</td>\n",
              "    </tr>\n",
              "    <tr>\n",
              "      <th>5</th>\n",
              "      <td>5</td>\n",
              "      <td>The world is running out of helium. Here's why...</td>\n",
              "    </tr>\n",
              "    <tr>\n",
              "      <th>6</th>\n",
              "      <td>6</td>\n",
              "      <td>The federal government won't tax your student ...</td>\n",
              "    </tr>\n",
              "    <tr>\n",
              "      <th>7</th>\n",
              "      <td>7</td>\n",
              "      <td>Twitter tells staff not to believe 'rumors' ab...</td>\n",
              "    </tr>\n",
              "    <tr>\n",
              "      <th>8</th>\n",
              "      <td>8</td>\n",
              "      <td>How American families are dealing with the new...</td>\n",
              "    </tr>\n",
              "  </tbody>\n",
              "</table>\n",
              "</div>\n",
              "      <button class=\"colab-df-convert\" onclick=\"convertToInteractive('df-689139aa-1d5c-4237-b07a-f7b0c9855fe1')\"\n",
              "              title=\"Convert this dataframe to an interactive table.\"\n",
              "              style=\"display:none;\">\n",
              "        \n",
              "  <svg xmlns=\"http://www.w3.org/2000/svg\" height=\"24px\"viewBox=\"0 0 24 24\"\n",
              "       width=\"24px\">\n",
              "    <path d=\"M0 0h24v24H0V0z\" fill=\"none\"/>\n",
              "    <path d=\"M18.56 5.44l.94 2.06.94-2.06 2.06-.94-2.06-.94-.94-2.06-.94 2.06-2.06.94zm-11 1L8.5 8.5l.94-2.06 2.06-.94-2.06-.94L8.5 2.5l-.94 2.06-2.06.94zm10 10l.94 2.06.94-2.06 2.06-.94-2.06-.94-.94-2.06-.94 2.06-2.06.94z\"/><path d=\"M17.41 7.96l-1.37-1.37c-.4-.4-.92-.59-1.43-.59-.52 0-1.04.2-1.43.59L10.3 9.45l-7.72 7.72c-.78.78-.78 2.05 0 2.83L4 21.41c.39.39.9.59 1.41.59.51 0 1.02-.2 1.41-.59l7.78-7.78 2.81-2.81c.8-.78.8-2.07 0-2.86zM5.41 20L4 18.59l7.72-7.72 1.47 1.35L5.41 20z\"/>\n",
              "  </svg>\n",
              "      </button>\n",
              "      \n",
              "  <style>\n",
              "    .colab-df-container {\n",
              "      display:flex;\n",
              "      flex-wrap:wrap;\n",
              "      gap: 12px;\n",
              "    }\n",
              "\n",
              "    .colab-df-convert {\n",
              "      background-color: #E8F0FE;\n",
              "      border: none;\n",
              "      border-radius: 50%;\n",
              "      cursor: pointer;\n",
              "      display: none;\n",
              "      fill: #1967D2;\n",
              "      height: 32px;\n",
              "      padding: 0 0 0 0;\n",
              "      width: 32px;\n",
              "    }\n",
              "\n",
              "    .colab-df-convert:hover {\n",
              "      background-color: #E2EBFA;\n",
              "      box-shadow: 0px 1px 2px rgba(60, 64, 67, 0.3), 0px 1px 3px 1px rgba(60, 64, 67, 0.15);\n",
              "      fill: #174EA6;\n",
              "    }\n",
              "\n",
              "    [theme=dark] .colab-df-convert {\n",
              "      background-color: #3B4455;\n",
              "      fill: #D2E3FC;\n",
              "    }\n",
              "\n",
              "    [theme=dark] .colab-df-convert:hover {\n",
              "      background-color: #434B5C;\n",
              "      box-shadow: 0px 1px 3px 1px rgba(0, 0, 0, 0.15);\n",
              "      filter: drop-shadow(0px 1px 2px rgba(0, 0, 0, 0.3));\n",
              "      fill: #FFFFFF;\n",
              "    }\n",
              "  </style>\n",
              "\n",
              "      <script>\n",
              "        const buttonEl =\n",
              "          document.querySelector('#df-689139aa-1d5c-4237-b07a-f7b0c9855fe1 button.colab-df-convert');\n",
              "        buttonEl.style.display =\n",
              "          google.colab.kernel.accessAllowed ? 'block' : 'none';\n",
              "\n",
              "        async function convertToInteractive(key) {\n",
              "          const element = document.querySelector('#df-689139aa-1d5c-4237-b07a-f7b0c9855fe1');\n",
              "          const dataTable =\n",
              "            await google.colab.kernel.invokeFunction('convertToInteractive',\n",
              "                                                     [key], {});\n",
              "          if (!dataTable) return;\n",
              "\n",
              "          const docLinkHtml = 'Like what you see? Visit the ' +\n",
              "            '<a target=\"_blank\" href=https://colab.research.google.com/notebooks/data_table.ipynb>data table notebook</a>'\n",
              "            + ' to learn more about interactive tables.';\n",
              "          element.innerHTML = '';\n",
              "          dataTable['output_type'] = 'display_data';\n",
              "          await google.colab.output.renderOutput(dataTable, element);\n",
              "          const docLink = document.createElement('div');\n",
              "          docLink.innerHTML = docLinkHtml;\n",
              "          element.appendChild(docLink);\n",
              "        }\n",
              "      </script>\n",
              "    </div>\n",
              "  </div>\n",
              "  "
            ]
          },
          "metadata": {},
          "execution_count": 68
        }
      ]
    },
    {
      "cell_type": "code",
      "source": [
        "print(data)"
      ],
      "metadata": {
        "id": "SipN84OQlDzo",
        "outputId": "3858866c-964b-49e5-b714-7750959b558a",
        "colab": {
          "base_uri": "https://localhost:8080/"
        }
      },
      "execution_count": null,
      "outputs": [
        {
          "output_type": "stream",
          "name": "stdout",
          "text": [
            "   Unnamed: 0                                                  0\n",
            "0           0  In South Texas, Democrats push back as Latina ...\n",
            "1           1  Sen. Lindsey Graham asks Supreme Court to bloc...\n",
            "2           2  The decider: Jill Biden's unparalleled influen...\n",
            "3           3  Liberal parents are firing back at conservativ...\n",
            "4           4  Mystery prevails as former Chinese leader esco...\n",
            "5           5  The world is running out of helium. Here's why...\n",
            "6           6  The federal government won't tax your student ...\n",
            "7           7  Twitter tells staff not to believe 'rumors' ab...\n",
            "8           8  How American families are dealing with the new...\n"
          ]
        }
      ]
    },
    {
      "cell_type": "code",
      "source": [
        "data.columns =['Index', 'text']\n",
        "print(data)"
      ],
      "metadata": {
        "id": "3-15peRYlLQs",
        "outputId": "8c873ae6-7bdc-436d-a628-51f6e66dd174",
        "colab": {
          "base_uri": "https://localhost:8080/"
        }
      },
      "execution_count": null,
      "outputs": [
        {
          "output_type": "stream",
          "name": "stdout",
          "text": [
            "   Index                                               text\n",
            "0      0  In South Texas, Democrats push back as Latina ...\n",
            "1      1  Sen. Lindsey Graham asks Supreme Court to bloc...\n",
            "2      2  The decider: Jill Biden's unparalleled influen...\n",
            "3      3  Liberal parents are firing back at conservativ...\n",
            "4      4  Mystery prevails as former Chinese leader esco...\n",
            "5      5  The world is running out of helium. Here's why...\n",
            "6      6  The federal government won't tax your student ...\n",
            "7      7  Twitter tells staff not to believe 'rumors' ab...\n",
            "8      8  How American families are dealing with the new...\n"
          ]
        }
      ]
    },
    {
      "cell_type": "code",
      "source": [
        "s=(data['text'])\n",
        "s"
      ],
      "metadata": {
        "id": "NfI9vmJBrpdn",
        "outputId": "b39ef727-efad-49b9-b773-ef5ed834034c",
        "colab": {
          "base_uri": "https://localhost:8080/"
        }
      },
      "execution_count": null,
      "outputs": [
        {
          "output_type": "execute_result",
          "data": {
            "text/plain": [
              "0    In South Texas, Democrats push back as Latina ...\n",
              "1    Sen. Lindsey Graham asks Supreme Court to bloc...\n",
              "2    The decider: Jill Biden's unparalleled influen...\n",
              "3    Liberal parents are firing back at conservativ...\n",
              "4    Mystery prevails as former Chinese leader esco...\n",
              "5    The world is running out of helium. Here's why...\n",
              "6    The federal government won't tax your student ...\n",
              "7    Twitter tells staff not to believe 'rumors' ab...\n",
              "8    How American families are dealing with the new...\n",
              "Name: text, dtype: object"
            ]
          },
          "metadata": {},
          "execution_count": 123
        }
      ]
    },
    {
      "cell_type": "code",
      "source": [
        "import nltk\n",
        "nltk.download('punkt')\n",
        "data['tokenized_sents'] = data.apply(lambda row: nltk.word_tokenize(row['text']), axis=1)"
      ],
      "metadata": {
        "id": "h7bk9NSbrwiV",
        "outputId": "e193a8b9-a250-4665-fda3-59be1406c72d",
        "colab": {
          "base_uri": "https://localhost:8080/"
        }
      },
      "execution_count": null,
      "outputs": [
        {
          "output_type": "stream",
          "name": "stderr",
          "text": [
            "[nltk_data] Downloading package punkt to /root/nltk_data...\n",
            "[nltk_data]   Unzipping tokenizers/punkt.zip.\n"
          ]
        }
      ]
    },
    {
      "cell_type": "code",
      "source": [
        "data"
      ],
      "metadata": {
        "id": "ZCI6QvuesTKO",
        "outputId": "80ba9e09-c81a-4c36-bfd0-47d80c878546",
        "colab": {
          "base_uri": "https://localhost:8080/",
          "height": 332
        }
      },
      "execution_count": null,
      "outputs": [
        {
          "output_type": "execute_result",
          "data": {
            "text/plain": [
              "   Index                                               text  \\\n",
              "0      0  In South Texas, Democrats push back as Latina ...   \n",
              "1      1  Sen. Lindsey Graham asks Supreme Court to bloc...   \n",
              "2      2  The decider: Jill Biden's unparalleled influen...   \n",
              "3      3  Liberal parents are firing back at conservativ...   \n",
              "4      4  Mystery prevails as former Chinese leader esco...   \n",
              "5      5  The world is running out of helium. Here's why...   \n",
              "6      6  The federal government won't tax your student ...   \n",
              "7      7  Twitter tells staff not to believe 'rumors' ab...   \n",
              "8      8  How American families are dealing with the new...   \n",
              "\n",
              "                                     tokenized_sents  \n",
              "0  [In, South, Texas, ,, Democrats, push, back, a...  \n",
              "1  [Sen., Lindsey, Graham, asks, Supreme, Court, ...  \n",
              "2  [The, decider, :, Jill, Biden, 's, unparallele...  \n",
              "3  [Liberal, parents, are, firing, back, at, cons...  \n",
              "4  [Mystery, prevails, as, former, Chinese, leade...  \n",
              "5  [The, world, is, running, out, of, helium, ., ...  \n",
              "6  [The, federal, government, wo, n't, tax, your,...  \n",
              "7  [Twitter, tells, staff, not, to, believe, 'rum...  \n",
              "8  [How, American, families, are, dealing, with, ...  "
            ],
            "text/html": [
              "\n",
              "  <div id=\"df-6dcc1bc9-51a5-4908-a0a2-e245735e239e\">\n",
              "    <div class=\"colab-df-container\">\n",
              "      <div>\n",
              "<style scoped>\n",
              "    .dataframe tbody tr th:only-of-type {\n",
              "        vertical-align: middle;\n",
              "    }\n",
              "\n",
              "    .dataframe tbody tr th {\n",
              "        vertical-align: top;\n",
              "    }\n",
              "\n",
              "    .dataframe thead th {\n",
              "        text-align: right;\n",
              "    }\n",
              "</style>\n",
              "<table border=\"1\" class=\"dataframe\">\n",
              "  <thead>\n",
              "    <tr style=\"text-align: right;\">\n",
              "      <th></th>\n",
              "      <th>Index</th>\n",
              "      <th>text</th>\n",
              "      <th>tokenized_sents</th>\n",
              "    </tr>\n",
              "  </thead>\n",
              "  <tbody>\n",
              "    <tr>\n",
              "      <th>0</th>\n",
              "      <td>0</td>\n",
              "      <td>In South Texas, Democrats push back as Latina ...</td>\n",
              "      <td>[In, South, Texas, ,, Democrats, push, back, a...</td>\n",
              "    </tr>\n",
              "    <tr>\n",
              "      <th>1</th>\n",
              "      <td>1</td>\n",
              "      <td>Sen. Lindsey Graham asks Supreme Court to bloc...</td>\n",
              "      <td>[Sen., Lindsey, Graham, asks, Supreme, Court, ...</td>\n",
              "    </tr>\n",
              "    <tr>\n",
              "      <th>2</th>\n",
              "      <td>2</td>\n",
              "      <td>The decider: Jill Biden's unparalleled influen...</td>\n",
              "      <td>[The, decider, :, Jill, Biden, 's, unparallele...</td>\n",
              "    </tr>\n",
              "    <tr>\n",
              "      <th>3</th>\n",
              "      <td>3</td>\n",
              "      <td>Liberal parents are firing back at conservativ...</td>\n",
              "      <td>[Liberal, parents, are, firing, back, at, cons...</td>\n",
              "    </tr>\n",
              "    <tr>\n",
              "      <th>4</th>\n",
              "      <td>4</td>\n",
              "      <td>Mystery prevails as former Chinese leader esco...</td>\n",
              "      <td>[Mystery, prevails, as, former, Chinese, leade...</td>\n",
              "    </tr>\n",
              "    <tr>\n",
              "      <th>5</th>\n",
              "      <td>5</td>\n",
              "      <td>The world is running out of helium. Here's why...</td>\n",
              "      <td>[The, world, is, running, out, of, helium, ., ...</td>\n",
              "    </tr>\n",
              "    <tr>\n",
              "      <th>6</th>\n",
              "      <td>6</td>\n",
              "      <td>The federal government won't tax your student ...</td>\n",
              "      <td>[The, federal, government, wo, n't, tax, your,...</td>\n",
              "    </tr>\n",
              "    <tr>\n",
              "      <th>7</th>\n",
              "      <td>7</td>\n",
              "      <td>Twitter tells staff not to believe 'rumors' ab...</td>\n",
              "      <td>[Twitter, tells, staff, not, to, believe, 'rum...</td>\n",
              "    </tr>\n",
              "    <tr>\n",
              "      <th>8</th>\n",
              "      <td>8</td>\n",
              "      <td>How American families are dealing with the new...</td>\n",
              "      <td>[How, American, families, are, dealing, with, ...</td>\n",
              "    </tr>\n",
              "  </tbody>\n",
              "</table>\n",
              "</div>\n",
              "      <button class=\"colab-df-convert\" onclick=\"convertToInteractive('df-6dcc1bc9-51a5-4908-a0a2-e245735e239e')\"\n",
              "              title=\"Convert this dataframe to an interactive table.\"\n",
              "              style=\"display:none;\">\n",
              "        \n",
              "  <svg xmlns=\"http://www.w3.org/2000/svg\" height=\"24px\"viewBox=\"0 0 24 24\"\n",
              "       width=\"24px\">\n",
              "    <path d=\"M0 0h24v24H0V0z\" fill=\"none\"/>\n",
              "    <path d=\"M18.56 5.44l.94 2.06.94-2.06 2.06-.94-2.06-.94-.94-2.06-.94 2.06-2.06.94zm-11 1L8.5 8.5l.94-2.06 2.06-.94-2.06-.94L8.5 2.5l-.94 2.06-2.06.94zm10 10l.94 2.06.94-2.06 2.06-.94-2.06-.94-.94-2.06-.94 2.06-2.06.94z\"/><path d=\"M17.41 7.96l-1.37-1.37c-.4-.4-.92-.59-1.43-.59-.52 0-1.04.2-1.43.59L10.3 9.45l-7.72 7.72c-.78.78-.78 2.05 0 2.83L4 21.41c.39.39.9.59 1.41.59.51 0 1.02-.2 1.41-.59l7.78-7.78 2.81-2.81c.8-.78.8-2.07 0-2.86zM5.41 20L4 18.59l7.72-7.72 1.47 1.35L5.41 20z\"/>\n",
              "  </svg>\n",
              "      </button>\n",
              "      \n",
              "  <style>\n",
              "    .colab-df-container {\n",
              "      display:flex;\n",
              "      flex-wrap:wrap;\n",
              "      gap: 12px;\n",
              "    }\n",
              "\n",
              "    .colab-df-convert {\n",
              "      background-color: #E8F0FE;\n",
              "      border: none;\n",
              "      border-radius: 50%;\n",
              "      cursor: pointer;\n",
              "      display: none;\n",
              "      fill: #1967D2;\n",
              "      height: 32px;\n",
              "      padding: 0 0 0 0;\n",
              "      width: 32px;\n",
              "    }\n",
              "\n",
              "    .colab-df-convert:hover {\n",
              "      background-color: #E2EBFA;\n",
              "      box-shadow: 0px 1px 2px rgba(60, 64, 67, 0.3), 0px 1px 3px 1px rgba(60, 64, 67, 0.15);\n",
              "      fill: #174EA6;\n",
              "    }\n",
              "\n",
              "    [theme=dark] .colab-df-convert {\n",
              "      background-color: #3B4455;\n",
              "      fill: #D2E3FC;\n",
              "    }\n",
              "\n",
              "    [theme=dark] .colab-df-convert:hover {\n",
              "      background-color: #434B5C;\n",
              "      box-shadow: 0px 1px 3px 1px rgba(0, 0, 0, 0.15);\n",
              "      filter: drop-shadow(0px 1px 2px rgba(0, 0, 0, 0.3));\n",
              "      fill: #FFFFFF;\n",
              "    }\n",
              "  </style>\n",
              "\n",
              "      <script>\n",
              "        const buttonEl =\n",
              "          document.querySelector('#df-6dcc1bc9-51a5-4908-a0a2-e245735e239e button.colab-df-convert');\n",
              "        buttonEl.style.display =\n",
              "          google.colab.kernel.accessAllowed ? 'block' : 'none';\n",
              "\n",
              "        async function convertToInteractive(key) {\n",
              "          const element = document.querySelector('#df-6dcc1bc9-51a5-4908-a0a2-e245735e239e');\n",
              "          const dataTable =\n",
              "            await google.colab.kernel.invokeFunction('convertToInteractive',\n",
              "                                                     [key], {});\n",
              "          if (!dataTable) return;\n",
              "\n",
              "          const docLinkHtml = 'Like what you see? Visit the ' +\n",
              "            '<a target=\"_blank\" href=https://colab.research.google.com/notebooks/data_table.ipynb>data table notebook</a>'\n",
              "            + ' to learn more about interactive tables.';\n",
              "          element.innerHTML = '';\n",
              "          dataTable['output_type'] = 'display_data';\n",
              "          await google.colab.output.renderOutput(dataTable, element);\n",
              "          const docLink = document.createElement('div');\n",
              "          docLink.innerHTML = docLinkHtml;\n",
              "          element.appendChild(docLink);\n",
              "        }\n",
              "      </script>\n",
              "    </div>\n",
              "  </div>\n",
              "  "
            ]
          },
          "metadata": {},
          "execution_count": 102
        }
      ]
    },
    {
      "cell_type": "code",
      "source": [
        "sen=data['tokenized_sents']\n",
        "sen\n",
        "sen2=pd.DataFrame(sen)\n",
        "sen2"
      ],
      "metadata": {
        "id": "KZk6g42mtWzK",
        "outputId": "258bbfff-450a-40bb-aa82-c05f4b592a5e",
        "colab": {
          "base_uri": "https://localhost:8080/",
          "height": 332
        }
      },
      "execution_count": null,
      "outputs": [
        {
          "output_type": "execute_result",
          "data": {
            "text/plain": [
              "                                     tokenized_sents\n",
              "0  [In, South, Texas, ,, Democrats, push, back, a...\n",
              "1  [Sen., Lindsey, Graham, asks, Supreme, Court, ...\n",
              "2  [The, decider, :, Jill, Biden, 's, unparallele...\n",
              "3  [Liberal, parents, are, firing, back, at, cons...\n",
              "4  [Mystery, prevails, as, former, Chinese, leade...\n",
              "5  [The, world, is, running, out, of, helium, ., ...\n",
              "6  [The, federal, government, wo, n't, tax, your,...\n",
              "7  [Twitter, tells, staff, not, to, believe, 'rum...\n",
              "8  [How, American, families, are, dealing, with, ..."
            ],
            "text/html": [
              "\n",
              "  <div id=\"df-b66deef9-d0aa-4613-a195-709d223920de\">\n",
              "    <div class=\"colab-df-container\">\n",
              "      <div>\n",
              "<style scoped>\n",
              "    .dataframe tbody tr th:only-of-type {\n",
              "        vertical-align: middle;\n",
              "    }\n",
              "\n",
              "    .dataframe tbody tr th {\n",
              "        vertical-align: top;\n",
              "    }\n",
              "\n",
              "    .dataframe thead th {\n",
              "        text-align: right;\n",
              "    }\n",
              "</style>\n",
              "<table border=\"1\" class=\"dataframe\">\n",
              "  <thead>\n",
              "    <tr style=\"text-align: right;\">\n",
              "      <th></th>\n",
              "      <th>tokenized_sents</th>\n",
              "    </tr>\n",
              "  </thead>\n",
              "  <tbody>\n",
              "    <tr>\n",
              "      <th>0</th>\n",
              "      <td>[In, South, Texas, ,, Democrats, push, back, a...</td>\n",
              "    </tr>\n",
              "    <tr>\n",
              "      <th>1</th>\n",
              "      <td>[Sen., Lindsey, Graham, asks, Supreme, Court, ...</td>\n",
              "    </tr>\n",
              "    <tr>\n",
              "      <th>2</th>\n",
              "      <td>[The, decider, :, Jill, Biden, 's, unparallele...</td>\n",
              "    </tr>\n",
              "    <tr>\n",
              "      <th>3</th>\n",
              "      <td>[Liberal, parents, are, firing, back, at, cons...</td>\n",
              "    </tr>\n",
              "    <tr>\n",
              "      <th>4</th>\n",
              "      <td>[Mystery, prevails, as, former, Chinese, leade...</td>\n",
              "    </tr>\n",
              "    <tr>\n",
              "      <th>5</th>\n",
              "      <td>[The, world, is, running, out, of, helium, ., ...</td>\n",
              "    </tr>\n",
              "    <tr>\n",
              "      <th>6</th>\n",
              "      <td>[The, federal, government, wo, n't, tax, your,...</td>\n",
              "    </tr>\n",
              "    <tr>\n",
              "      <th>7</th>\n",
              "      <td>[Twitter, tells, staff, not, to, believe, 'rum...</td>\n",
              "    </tr>\n",
              "    <tr>\n",
              "      <th>8</th>\n",
              "      <td>[How, American, families, are, dealing, with, ...</td>\n",
              "    </tr>\n",
              "  </tbody>\n",
              "</table>\n",
              "</div>\n",
              "      <button class=\"colab-df-convert\" onclick=\"convertToInteractive('df-b66deef9-d0aa-4613-a195-709d223920de')\"\n",
              "              title=\"Convert this dataframe to an interactive table.\"\n",
              "              style=\"display:none;\">\n",
              "        \n",
              "  <svg xmlns=\"http://www.w3.org/2000/svg\" height=\"24px\"viewBox=\"0 0 24 24\"\n",
              "       width=\"24px\">\n",
              "    <path d=\"M0 0h24v24H0V0z\" fill=\"none\"/>\n",
              "    <path d=\"M18.56 5.44l.94 2.06.94-2.06 2.06-.94-2.06-.94-.94-2.06-.94 2.06-2.06.94zm-11 1L8.5 8.5l.94-2.06 2.06-.94-2.06-.94L8.5 2.5l-.94 2.06-2.06.94zm10 10l.94 2.06.94-2.06 2.06-.94-2.06-.94-.94-2.06-.94 2.06-2.06.94z\"/><path d=\"M17.41 7.96l-1.37-1.37c-.4-.4-.92-.59-1.43-.59-.52 0-1.04.2-1.43.59L10.3 9.45l-7.72 7.72c-.78.78-.78 2.05 0 2.83L4 21.41c.39.39.9.59 1.41.59.51 0 1.02-.2 1.41-.59l7.78-7.78 2.81-2.81c.8-.78.8-2.07 0-2.86zM5.41 20L4 18.59l7.72-7.72 1.47 1.35L5.41 20z\"/>\n",
              "  </svg>\n",
              "      </button>\n",
              "      \n",
              "  <style>\n",
              "    .colab-df-container {\n",
              "      display:flex;\n",
              "      flex-wrap:wrap;\n",
              "      gap: 12px;\n",
              "    }\n",
              "\n",
              "    .colab-df-convert {\n",
              "      background-color: #E8F0FE;\n",
              "      border: none;\n",
              "      border-radius: 50%;\n",
              "      cursor: pointer;\n",
              "      display: none;\n",
              "      fill: #1967D2;\n",
              "      height: 32px;\n",
              "      padding: 0 0 0 0;\n",
              "      width: 32px;\n",
              "    }\n",
              "\n",
              "    .colab-df-convert:hover {\n",
              "      background-color: #E2EBFA;\n",
              "      box-shadow: 0px 1px 2px rgba(60, 64, 67, 0.3), 0px 1px 3px 1px rgba(60, 64, 67, 0.15);\n",
              "      fill: #174EA6;\n",
              "    }\n",
              "\n",
              "    [theme=dark] .colab-df-convert {\n",
              "      background-color: #3B4455;\n",
              "      fill: #D2E3FC;\n",
              "    }\n",
              "\n",
              "    [theme=dark] .colab-df-convert:hover {\n",
              "      background-color: #434B5C;\n",
              "      box-shadow: 0px 1px 3px 1px rgba(0, 0, 0, 0.15);\n",
              "      filter: drop-shadow(0px 1px 2px rgba(0, 0, 0, 0.3));\n",
              "      fill: #FFFFFF;\n",
              "    }\n",
              "  </style>\n",
              "\n",
              "      <script>\n",
              "        const buttonEl =\n",
              "          document.querySelector('#df-b66deef9-d0aa-4613-a195-709d223920de button.colab-df-convert');\n",
              "        buttonEl.style.display =\n",
              "          google.colab.kernel.accessAllowed ? 'block' : 'none';\n",
              "\n",
              "        async function convertToInteractive(key) {\n",
              "          const element = document.querySelector('#df-b66deef9-d0aa-4613-a195-709d223920de');\n",
              "          const dataTable =\n",
              "            await google.colab.kernel.invokeFunction('convertToInteractive',\n",
              "                                                     [key], {});\n",
              "          if (!dataTable) return;\n",
              "\n",
              "          const docLinkHtml = 'Like what you see? Visit the ' +\n",
              "            '<a target=\"_blank\" href=https://colab.research.google.com/notebooks/data_table.ipynb>data table notebook</a>'\n",
              "            + ' to learn more about interactive tables.';\n",
              "          element.innerHTML = '';\n",
              "          dataTable['output_type'] = 'display_data';\n",
              "          await google.colab.output.renderOutput(dataTable, element);\n",
              "          const docLink = document.createElement('div');\n",
              "          docLink.innerHTML = docLinkHtml;\n",
              "          element.appendChild(docLink);\n",
              "        }\n",
              "      </script>\n",
              "    </div>\n",
              "  </div>\n",
              "  "
            ]
          },
          "metadata": {},
          "execution_count": 129
        }
      ]
    },
    {
      "cell_type": "code",
      "source": [
        "data['text1']=data['text'].apply(str)\n",
        "data"
      ],
      "metadata": {
        "id": "t32iENP8xlXP",
        "outputId": "554a95b4-0809-4094-d93e-589095a7b21f",
        "colab": {
          "base_uri": "https://localhost:8080/",
          "height": 514
        }
      },
      "execution_count": null,
      "outputs": [
        {
          "output_type": "execute_result",
          "data": {
            "text/plain": [
              "   Index                                               text  \\\n",
              "0      0  In South Texas, Democrats push back as Latina ...   \n",
              "1      1  Sen. Lindsey Graham asks Supreme Court to bloc...   \n",
              "2      2  The decider: Jill Biden's unparalleled influen...   \n",
              "3      3  Liberal parents are firing back at conservativ...   \n",
              "4      4  Mystery prevails as former Chinese leader esco...   \n",
              "5      5  The world is running out of helium. Here's why...   \n",
              "6      6  The federal government won't tax your student ...   \n",
              "7      7  Twitter tells staff not to believe 'rumors' ab...   \n",
              "8      8  How American families are dealing with the new...   \n",
              "\n",
              "                                     tokenized_sents  \\\n",
              "0  [In, South, Texas, ,, Democrats, push, back, a...   \n",
              "1  [Sen., Lindsey, Graham, asks, Supreme, Court, ...   \n",
              "2  [The, decider, :, Jill, Biden, 's, unparallele...   \n",
              "3  [Liberal, parents, are, firing, back, at, cons...   \n",
              "4  [Mystery, prevails, as, former, Chinese, leade...   \n",
              "5  [The, world, is, running, out, of, helium, ., ...   \n",
              "6  [The, federal, government, wo, n't, tax, your,...   \n",
              "7  [Twitter, tells, staff, not, to, believe, 'rum...   \n",
              "8  [How, American, families, are, dealing, with, ...   \n",
              "\n",
              "                                               text1  \n",
              "0  In South Texas, Democrats push back as Latina ...  \n",
              "1  Sen. Lindsey Graham asks Supreme Court to bloc...  \n",
              "2  The decider: Jill Biden's unparalleled influen...  \n",
              "3  Liberal parents are firing back at conservativ...  \n",
              "4  Mystery prevails as former Chinese leader esco...  \n",
              "5  The world is running out of helium. Here's why...  \n",
              "6  The federal government won't tax your student ...  \n",
              "7  Twitter tells staff not to believe 'rumors' ab...  \n",
              "8  How American families are dealing with the new...  "
            ],
            "text/html": [
              "\n",
              "  <div id=\"df-8c53e77e-b11b-4255-899e-3165ff5053bd\">\n",
              "    <div class=\"colab-df-container\">\n",
              "      <div>\n",
              "<style scoped>\n",
              "    .dataframe tbody tr th:only-of-type {\n",
              "        vertical-align: middle;\n",
              "    }\n",
              "\n",
              "    .dataframe tbody tr th {\n",
              "        vertical-align: top;\n",
              "    }\n",
              "\n",
              "    .dataframe thead th {\n",
              "        text-align: right;\n",
              "    }\n",
              "</style>\n",
              "<table border=\"1\" class=\"dataframe\">\n",
              "  <thead>\n",
              "    <tr style=\"text-align: right;\">\n",
              "      <th></th>\n",
              "      <th>Index</th>\n",
              "      <th>text</th>\n",
              "      <th>tokenized_sents</th>\n",
              "      <th>text1</th>\n",
              "    </tr>\n",
              "  </thead>\n",
              "  <tbody>\n",
              "    <tr>\n",
              "      <th>0</th>\n",
              "      <td>0</td>\n",
              "      <td>In South Texas, Democrats push back as Latina ...</td>\n",
              "      <td>[In, South, Texas, ,, Democrats, push, back, a...</td>\n",
              "      <td>In South Texas, Democrats push back as Latina ...</td>\n",
              "    </tr>\n",
              "    <tr>\n",
              "      <th>1</th>\n",
              "      <td>1</td>\n",
              "      <td>Sen. Lindsey Graham asks Supreme Court to bloc...</td>\n",
              "      <td>[Sen., Lindsey, Graham, asks, Supreme, Court, ...</td>\n",
              "      <td>Sen. Lindsey Graham asks Supreme Court to bloc...</td>\n",
              "    </tr>\n",
              "    <tr>\n",
              "      <th>2</th>\n",
              "      <td>2</td>\n",
              "      <td>The decider: Jill Biden's unparalleled influen...</td>\n",
              "      <td>[The, decider, :, Jill, Biden, 's, unparallele...</td>\n",
              "      <td>The decider: Jill Biden's unparalleled influen...</td>\n",
              "    </tr>\n",
              "    <tr>\n",
              "      <th>3</th>\n",
              "      <td>3</td>\n",
              "      <td>Liberal parents are firing back at conservativ...</td>\n",
              "      <td>[Liberal, parents, are, firing, back, at, cons...</td>\n",
              "      <td>Liberal parents are firing back at conservativ...</td>\n",
              "    </tr>\n",
              "    <tr>\n",
              "      <th>4</th>\n",
              "      <td>4</td>\n",
              "      <td>Mystery prevails as former Chinese leader esco...</td>\n",
              "      <td>[Mystery, prevails, as, former, Chinese, leade...</td>\n",
              "      <td>Mystery prevails as former Chinese leader esco...</td>\n",
              "    </tr>\n",
              "    <tr>\n",
              "      <th>5</th>\n",
              "      <td>5</td>\n",
              "      <td>The world is running out of helium. Here's why...</td>\n",
              "      <td>[The, world, is, running, out, of, helium, ., ...</td>\n",
              "      <td>The world is running out of helium. Here's why...</td>\n",
              "    </tr>\n",
              "    <tr>\n",
              "      <th>6</th>\n",
              "      <td>6</td>\n",
              "      <td>The federal government won't tax your student ...</td>\n",
              "      <td>[The, federal, government, wo, n't, tax, your,...</td>\n",
              "      <td>The federal government won't tax your student ...</td>\n",
              "    </tr>\n",
              "    <tr>\n",
              "      <th>7</th>\n",
              "      <td>7</td>\n",
              "      <td>Twitter tells staff not to believe 'rumors' ab...</td>\n",
              "      <td>[Twitter, tells, staff, not, to, believe, 'rum...</td>\n",
              "      <td>Twitter tells staff not to believe 'rumors' ab...</td>\n",
              "    </tr>\n",
              "    <tr>\n",
              "      <th>8</th>\n",
              "      <td>8</td>\n",
              "      <td>How American families are dealing with the new...</td>\n",
              "      <td>[How, American, families, are, dealing, with, ...</td>\n",
              "      <td>How American families are dealing with the new...</td>\n",
              "    </tr>\n",
              "  </tbody>\n",
              "</table>\n",
              "</div>\n",
              "      <button class=\"colab-df-convert\" onclick=\"convertToInteractive('df-8c53e77e-b11b-4255-899e-3165ff5053bd')\"\n",
              "              title=\"Convert this dataframe to an interactive table.\"\n",
              "              style=\"display:none;\">\n",
              "        \n",
              "  <svg xmlns=\"http://www.w3.org/2000/svg\" height=\"24px\"viewBox=\"0 0 24 24\"\n",
              "       width=\"24px\">\n",
              "    <path d=\"M0 0h24v24H0V0z\" fill=\"none\"/>\n",
              "    <path d=\"M18.56 5.44l.94 2.06.94-2.06 2.06-.94-2.06-.94-.94-2.06-.94 2.06-2.06.94zm-11 1L8.5 8.5l.94-2.06 2.06-.94-2.06-.94L8.5 2.5l-.94 2.06-2.06.94zm10 10l.94 2.06.94-2.06 2.06-.94-2.06-.94-.94-2.06-.94 2.06-2.06.94z\"/><path d=\"M17.41 7.96l-1.37-1.37c-.4-.4-.92-.59-1.43-.59-.52 0-1.04.2-1.43.59L10.3 9.45l-7.72 7.72c-.78.78-.78 2.05 0 2.83L4 21.41c.39.39.9.59 1.41.59.51 0 1.02-.2 1.41-.59l7.78-7.78 2.81-2.81c.8-.78.8-2.07 0-2.86zM5.41 20L4 18.59l7.72-7.72 1.47 1.35L5.41 20z\"/>\n",
              "  </svg>\n",
              "      </button>\n",
              "      \n",
              "  <style>\n",
              "    .colab-df-container {\n",
              "      display:flex;\n",
              "      flex-wrap:wrap;\n",
              "      gap: 12px;\n",
              "    }\n",
              "\n",
              "    .colab-df-convert {\n",
              "      background-color: #E8F0FE;\n",
              "      border: none;\n",
              "      border-radius: 50%;\n",
              "      cursor: pointer;\n",
              "      display: none;\n",
              "      fill: #1967D2;\n",
              "      height: 32px;\n",
              "      padding: 0 0 0 0;\n",
              "      width: 32px;\n",
              "    }\n",
              "\n",
              "    .colab-df-convert:hover {\n",
              "      background-color: #E2EBFA;\n",
              "      box-shadow: 0px 1px 2px rgba(60, 64, 67, 0.3), 0px 1px 3px 1px rgba(60, 64, 67, 0.15);\n",
              "      fill: #174EA6;\n",
              "    }\n",
              "\n",
              "    [theme=dark] .colab-df-convert {\n",
              "      background-color: #3B4455;\n",
              "      fill: #D2E3FC;\n",
              "    }\n",
              "\n",
              "    [theme=dark] .colab-df-convert:hover {\n",
              "      background-color: #434B5C;\n",
              "      box-shadow: 0px 1px 3px 1px rgba(0, 0, 0, 0.15);\n",
              "      filter: drop-shadow(0px 1px 2px rgba(0, 0, 0, 0.3));\n",
              "      fill: #FFFFFF;\n",
              "    }\n",
              "  </style>\n",
              "\n",
              "      <script>\n",
              "        const buttonEl =\n",
              "          document.querySelector('#df-8c53e77e-b11b-4255-899e-3165ff5053bd button.colab-df-convert');\n",
              "        buttonEl.style.display =\n",
              "          google.colab.kernel.accessAllowed ? 'block' : 'none';\n",
              "\n",
              "        async function convertToInteractive(key) {\n",
              "          const element = document.querySelector('#df-8c53e77e-b11b-4255-899e-3165ff5053bd');\n",
              "          const dataTable =\n",
              "            await google.colab.kernel.invokeFunction('convertToInteractive',\n",
              "                                                     [key], {});\n",
              "          if (!dataTable) return;\n",
              "\n",
              "          const docLinkHtml = 'Like what you see? Visit the ' +\n",
              "            '<a target=\"_blank\" href=https://colab.research.google.com/notebooks/data_table.ipynb>data table notebook</a>'\n",
              "            + ' to learn more about interactive tables.';\n",
              "          element.innerHTML = '';\n",
              "          dataTable['output_type'] = 'display_data';\n",
              "          await google.colab.output.renderOutput(dataTable, element);\n",
              "          const docLink = document.createElement('div');\n",
              "          docLink.innerHTML = docLinkHtml;\n",
              "          element.appendChild(docLink);\n",
              "        }\n",
              "      </script>\n",
              "    </div>\n",
              "  </div>\n",
              "  "
            ]
          },
          "metadata": {},
          "execution_count": 138
        }
      ]
    },
    {
      "cell_type": "code",
      "source": [
        "a=(data['text1'])\n",
        "a"
      ],
      "metadata": {
        "id": "Yb8CrXuwyfOo",
        "outputId": "ef6e32ff-2ef6-4ef9-b0ba-74ac06413180",
        "colab": {
          "base_uri": "https://localhost:8080/"
        }
      },
      "execution_count": null,
      "outputs": [
        {
          "output_type": "execute_result",
          "data": {
            "text/plain": [
              "0    In South Texas, Democrats push back as Latina ...\n",
              "1    Sen. Lindsey Graham asks Supreme Court to bloc...\n",
              "2    The decider: Jill Biden's unparalleled influen...\n",
              "3    Liberal parents are firing back at conservativ...\n",
              "4    Mystery prevails as former Chinese leader esco...\n",
              "5    The world is running out of helium. Here's why...\n",
              "6    The federal government won't tax your student ...\n",
              "7    Twitter tells staff not to believe 'rumors' ab...\n",
              "8    How American families are dealing with the new...\n",
              "Name: text1, dtype: object"
            ]
          },
          "metadata": {},
          "execution_count": 141
        }
      ]
    },
    {
      "cell_type": "code",
      "source": [
        "data.text[0]"
      ],
      "metadata": {
        "id": "RiFxFcZc8S8J",
        "outputId": "f7702dbe-a186-457f-be13-f26b56198d64",
        "colab": {
          "base_uri": "https://localhost:8080/",
          "height": 35
        }
      },
      "execution_count": null,
      "outputs": [
        {
          "output_type": "execute_result",
          "data": {
            "text/plain": [
              "'In South Texas, Democrats push back as Latina Republicans close in'"
            ],
            "application/vnd.google.colaboratory.intrinsic+json": {
              "type": "string"
            }
          },
          "metadata": {},
          "execution_count": 144
        }
      ]
    },
    {
      "cell_type": "code",
      "source": [
        "from nltk.corpus import stopwords\n",
        "nltk.download('stopwords')\n",
        "from nltk.tokenize import word_tokenize\n",
        "\n",
        "for i in range(len(data)):\n",
        "  text_tokens = word_tokenize(data.text[i])\n",
        "  stop_words = stopwords.words()\n",
        "  tokens_without_sw = [word for word in text_tokens if not word in stop_words]\n",
        "  filtered_sentence = (\" \").join(tokens_without_sw)\n",
        "  t = filtered_sentence\n",
        "  print(t)\n"
      ],
      "metadata": {
        "id": "ITaPCt9CwKBD",
        "outputId": "d5258ad4-97a4-4833-d989-bade96582acf",
        "colab": {
          "base_uri": "https://localhost:8080/"
        }
      },
      "execution_count": null,
      "outputs": [
        {
          "output_type": "stream",
          "name": "stdout",
          "text": [
            "In South Texas , Democrats push back Latina Republicans close\n",
            "Sen. Lindsey Graham asks Supreme Court block subpoena criminal probe 2020 election\n",
            "The decider : Jill Biden 's unparalleled influence impact president\n",
            "Liberal parents firing back conservatives school issues — 're\n",
            "Mystery prevails former Chinese leader escorted Communist Party Congress front world media\n",
            "The world running helium . Here 's doctors worried .\n",
            "The federal government n't tax student loan forgiveness 7 states\n",
            "Twitter tells staff believe 'rumors ' imminent layoffs Elon Musk\n",
            "How American families dealing cost living\n"
          ]
        },
        {
          "output_type": "stream",
          "name": "stderr",
          "text": [
            "[nltk_data] Downloading package stopwords to /root/nltk_data...\n",
            "[nltk_data]   Package stopwords is already up-to-date!\n"
          ]
        }
      ]
    },
    {
      "cell_type": "code",
      "source": [
        "from collections import Counter\n",
        "\n",
        "for i in range(len(data)):\n",
        "  split_it = data.text[i].split()\n",
        "  Counter_var = Counter(split_it)\n",
        "  most_occur = Counter_var.most_common()\n",
        "  \n",
        "print(most_occur)"
      ],
      "metadata": {
        "id": "R9C0FOGKsXLB",
        "outputId": "443a1d40-dabc-4b7c-a2d7-d7fa9fa978ad",
        "colab": {
          "base_uri": "https://localhost:8080/"
        }
      },
      "execution_count": null,
      "outputs": [
        {
          "output_type": "stream",
          "name": "stdout",
          "text": [
            "[('How', 1), ('American', 1), ('families', 1), ('are', 1), ('dealing', 1), ('with', 1), ('the', 1), ('new', 1), ('cost', 1), ('of', 1), ('living', 1)]\n"
          ]
        }
      ]
    },
    {
      "cell_type": "code",
      "source": [
        "import pandas as pd\n",
        "import nltk\n",
        "import re\n",
        "import string\n",
        "from nltk.corpus import stopwords\n",
        "nltk.download('punkt')\n",
        "nltk.download('stopwords')\n",
        "from nltk.tokenize import word_tokenize\n",
        "\n",
        "stop_words = stopwords.words()\n",
        "\n",
        "def cleaning(text):        \n",
        "    # converting to lowercase, removing URL links, special characters, punctuations...\n",
        "    text = text.lower()\n",
        "    text = re.sub('https?://\\S+|www\\.\\S+', '', text)\n",
        "    text = re.sub('<.*?>+', '', text)\n",
        "    text = re.sub('[%s]' % re.escape(string.punctuation), '', text)\n",
        "    text = re.sub('\\n', '', text)\n",
        "    text = re.sub('[’“”…]', '', text)     \n",
        "\n",
        "\n",
        "    # removing the stop-words          \n",
        "    text_tokens = word_tokenize(text)\n",
        "    tokens_without_sw = [word for word in text_tokens if not word in stop_words]\n",
        "    filtered_sentence = (\" \").join(tokens_without_sw)\n",
        "    text = filtered_sentence\n",
        "    \n",
        "    return text\n",
        "\n",
        "dt = data['text'].apply(cleaning)\n",
        "\n",
        "from collections import Counter\n",
        "p = Counter(\" \".join(dt).split()).most_common(10)\n",
        "rslt = pd.DataFrame(p, columns=['Word', 'Frequency'])\n",
        "print(rslt)"
      ],
      "metadata": {
        "id": "JKFrlKez-qMM",
        "outputId": "2a7b24d4-1913-4d35-ff9d-9b52589b8345",
        "colab": {
          "base_uri": "https://localhost:8080/"
        }
      },
      "execution_count": null,
      "outputs": [
        {
          "output_type": "stream",
          "name": "stdout",
          "text": [
            "          Word  Frequency\n",
            "0         back          2\n",
            "1        world          2\n",
            "2        south          1\n",
            "3        texas          1\n",
            "4    democrats          1\n",
            "5         push          1\n",
            "6       latina          1\n",
            "7  republicans          1\n",
            "8        close          1\n",
            "9      lindsey          1\n"
          ]
        },
        {
          "output_type": "stream",
          "name": "stderr",
          "text": [
            "[nltk_data] Downloading package punkt to /root/nltk_data...\n",
            "[nltk_data]   Package punkt is already up-to-date!\n",
            "[nltk_data] Downloading package stopwords to /root/nltk_data...\n",
            "[nltk_data]   Package stopwords is already up-to-date!\n"
          ]
        }
      ]
    },
    {
      "cell_type": "code",
      "source": [
        "x=[]\n",
        "most_occuring = Counter(data['text'].split()).most_common(20)\n",
        "x.append(most_occuring)\n",
        "x"
      ],
      "metadata": {
        "id": "iyiAL43eSVC9",
        "outputId": "b05088a6-0491-47fb-b14f-5247304e4e02",
        "colab": {
          "base_uri": "https://localhost:8080/",
          "height": 339
        }
      },
      "execution_count": null,
      "outputs": [
        {
          "output_type": "error",
          "ename": "AttributeError",
          "evalue": "ignored",
          "traceback": [
            "\u001b[0;31m---------------------------------------------------------------------------\u001b[0m",
            "\u001b[0;31mAttributeError\u001b[0m                            Traceback (most recent call last)",
            "\u001b[0;32m<ipython-input-219-8736efb71fff>\u001b[0m in \u001b[0;36m<module>\u001b[0;34m\u001b[0m\n\u001b[1;32m      1\u001b[0m \u001b[0mx\u001b[0m\u001b[0;34m=\u001b[0m\u001b[0;34m[\u001b[0m\u001b[0;34m]\u001b[0m\u001b[0;34m\u001b[0m\u001b[0;34m\u001b[0m\u001b[0m\n\u001b[0;32m----> 2\u001b[0;31m \u001b[0mmost_occuring\u001b[0m \u001b[0;34m=\u001b[0m \u001b[0mCounter\u001b[0m\u001b[0;34m(\u001b[0m\u001b[0mdata\u001b[0m\u001b[0;34m[\u001b[0m\u001b[0;34m'text'\u001b[0m\u001b[0;34m]\u001b[0m\u001b[0;34m.\u001b[0m\u001b[0msplit\u001b[0m\u001b[0;34m(\u001b[0m\u001b[0;34m)\u001b[0m\u001b[0;34m)\u001b[0m\u001b[0;34m.\u001b[0m\u001b[0mmost_common\u001b[0m\u001b[0;34m(\u001b[0m\u001b[0;36m20\u001b[0m\u001b[0;34m)\u001b[0m\u001b[0;34m\u001b[0m\u001b[0;34m\u001b[0m\u001b[0m\n\u001b[0m\u001b[1;32m      3\u001b[0m \u001b[0mx\u001b[0m\u001b[0;34m.\u001b[0m\u001b[0mappend\u001b[0m\u001b[0;34m(\u001b[0m\u001b[0mmost_occuring\u001b[0m\u001b[0;34m)\u001b[0m\u001b[0;34m\u001b[0m\u001b[0;34m\u001b[0m\u001b[0m\n\u001b[1;32m      4\u001b[0m \u001b[0mx\u001b[0m\u001b[0;34m\u001b[0m\u001b[0;34m\u001b[0m\u001b[0m\n",
            "\u001b[0;32m/usr/local/lib/python3.7/dist-packages/pandas/core/generic.py\u001b[0m in \u001b[0;36m__getattr__\u001b[0;34m(self, name)\u001b[0m\n\u001b[1;32m   5485\u001b[0m         ):\n\u001b[1;32m   5486\u001b[0m             \u001b[0;32mreturn\u001b[0m \u001b[0mself\u001b[0m\u001b[0;34m[\u001b[0m\u001b[0mname\u001b[0m\u001b[0;34m]\u001b[0m\u001b[0;34m\u001b[0m\u001b[0;34m\u001b[0m\u001b[0m\n\u001b[0;32m-> 5487\u001b[0;31m         \u001b[0;32mreturn\u001b[0m \u001b[0mobject\u001b[0m\u001b[0;34m.\u001b[0m\u001b[0m__getattribute__\u001b[0m\u001b[0;34m(\u001b[0m\u001b[0mself\u001b[0m\u001b[0;34m,\u001b[0m \u001b[0mname\u001b[0m\u001b[0;34m)\u001b[0m\u001b[0;34m\u001b[0m\u001b[0;34m\u001b[0m\u001b[0m\n\u001b[0m\u001b[1;32m   5488\u001b[0m \u001b[0;34m\u001b[0m\u001b[0m\n\u001b[1;32m   5489\u001b[0m     \u001b[0;32mdef\u001b[0m \u001b[0m__setattr__\u001b[0m\u001b[0;34m(\u001b[0m\u001b[0mself\u001b[0m\u001b[0;34m,\u001b[0m \u001b[0mname\u001b[0m\u001b[0;34m:\u001b[0m \u001b[0mstr\u001b[0m\u001b[0;34m,\u001b[0m \u001b[0mvalue\u001b[0m\u001b[0;34m)\u001b[0m \u001b[0;34m->\u001b[0m \u001b[0;32mNone\u001b[0m\u001b[0;34m:\u001b[0m\u001b[0;34m\u001b[0m\u001b[0;34m\u001b[0m\u001b[0m\n",
            "\u001b[0;31mAttributeError\u001b[0m: 'Series' object has no attribute 'split'"
          ]
        }
      ]
    },
    {
      "cell_type": "code",
      "source": [
        "Counter(\" \".join(data[\"text\"].str.lower()).split()).most_common(100)"
      ],
      "metadata": {
        "id": "4Jsj3_VgUsu1",
        "outputId": "c01e6bb2-1f1f-4e10-bb35-dc44ebebdf4f",
        "colab": {
          "base_uri": "https://localhost:8080/"
        }
      },
      "execution_count": null,
      "outputs": [
        {
          "output_type": "execute_result",
          "data": {
            "text/plain": [
              "[('of', 5),\n",
              " ('the', 5),\n",
              " ('in', 4),\n",
              " ('are', 3),\n",
              " ('back', 2),\n",
              " ('as', 2),\n",
              " ('to', 2),\n",
              " ('on', 2),\n",
              " ('but', 2),\n",
              " ('out', 2),\n",
              " ('world', 2),\n",
              " ('south', 1),\n",
              " ('texas,', 1),\n",
              " ('democrats', 1),\n",
              " ('push', 1),\n",
              " ('latina', 1),\n",
              " ('republicans', 1),\n",
              " ('close', 1),\n",
              " ('sen.', 1),\n",
              " ('lindsey', 1),\n",
              " ('graham', 1),\n",
              " ('asks', 1),\n",
              " ('supreme', 1),\n",
              " ('court', 1),\n",
              " ('block', 1),\n",
              " ('subpoena', 1),\n",
              " ('criminal', 1),\n",
              " ('probe', 1),\n",
              " ('2020', 1),\n",
              " ('election', 1),\n",
              " ('decider:', 1),\n",
              " ('jill', 1),\n",
              " (\"biden's\", 1),\n",
              " ('unparalleled', 1),\n",
              " ('influence', 1),\n",
              " ('and', 1),\n",
              " ('impact', 1),\n",
              " ('president', 1),\n",
              " ('liberal', 1),\n",
              " ('parents', 1),\n",
              " ('firing', 1),\n",
              " ('at', 1),\n",
              " ('conservatives', 1),\n",
              " ('school', 1),\n",
              " ('issues', 1),\n",
              " ('—', 1),\n",
              " (\"they're\", 1),\n",
              " ('far', 1),\n",
              " ('behind', 1),\n",
              " ('mystery', 1),\n",
              " ('prevails', 1),\n",
              " ('former', 1),\n",
              " ('chinese', 1),\n",
              " ('leader', 1),\n",
              " ('escorted', 1),\n",
              " ('communist', 1),\n",
              " ('party', 1),\n",
              " ('congress', 1),\n",
              " ('front', 1),\n",
              " ('media', 1),\n",
              " ('is', 1),\n",
              " ('running', 1),\n",
              " ('helium.', 1),\n",
              " (\"here's\", 1),\n",
              " ('why', 1),\n",
              " ('doctors', 1),\n",
              " ('worried.', 1),\n",
              " ('federal', 1),\n",
              " ('government', 1),\n",
              " (\"won't\", 1),\n",
              " ('tax', 1),\n",
              " ('your', 1),\n",
              " ('student', 1),\n",
              " ('loan', 1),\n",
              " ('forgiveness', 1),\n",
              " ('these', 1),\n",
              " ('7', 1),\n",
              " ('states', 1),\n",
              " ('may', 1),\n",
              " ('twitter', 1),\n",
              " ('tells', 1),\n",
              " ('staff', 1),\n",
              " ('not', 1),\n",
              " ('believe', 1),\n",
              " (\"'rumors'\", 1),\n",
              " ('about', 1),\n",
              " ('imminent', 1),\n",
              " ('layoffs', 1),\n",
              " ('under', 1),\n",
              " ('elon', 1),\n",
              " ('musk', 1),\n",
              " ('how', 1),\n",
              " ('american', 1),\n",
              " ('families', 1),\n",
              " ('dealing', 1),\n",
              " ('with', 1),\n",
              " ('new', 1),\n",
              " ('cost', 1),\n",
              " ('living', 1)]"
            ]
          },
          "metadata": {},
          "execution_count": 221
        }
      ]
    },
    {
      "cell_type": "code",
      "source": [
        "\n",
        "\n",
        "\n",
        "data[\"text\"].str.lower().str.contains(\"democrats\", na=False)\n"
      ],
      "metadata": {
        "id": "XG6hS1bcDGvK",
        "outputId": "c584a3bb-a1ab-49c3-9063-5fb69884e4a0",
        "colab": {
          "base_uri": "https://localhost:8080/"
        }
      },
      "execution_count": null,
      "outputs": [
        {
          "output_type": "execute_result",
          "data": {
            "text/plain": [
              "0     True\n",
              "1    False\n",
              "2    False\n",
              "3    False\n",
              "4    False\n",
              "5    False\n",
              "6    False\n",
              "7    False\n",
              "8    False\n",
              "Name: text, dtype: bool"
            ]
          },
          "metadata": {},
          "execution_count": 208
        }
      ]
    },
    {
      "cell_type": "code",
      "source": [
        "no_of_words = len(data.words in data.text))"
      ],
      "metadata": {
        "id": "vH6zC7LJcmDB",
        "outputId": "8e5e5ddc-148d-4148-e1b1-0f5f29f5e0e6",
        "colab": {
          "base_uri": "https://localhost:8080/",
          "height": 130
        }
      },
      "execution_count": null,
      "outputs": [
        {
          "output_type": "error",
          "ename": "SyntaxError",
          "evalue": "ignored",
          "traceback": [
            "\u001b[0;36m  File \u001b[0;32m\"<ipython-input-224-7cba83c736b2>\"\u001b[0;36m, line \u001b[0;32m1\u001b[0m\n\u001b[0;31m    no_of_words = len(data.words in data.text))\u001b[0m\n\u001b[0m                                              ^\u001b[0m\n\u001b[0;31mSyntaxError\u001b[0m\u001b[0;31m:\u001b[0m invalid syntax\n"
          ]
        }
      ]
    },
    {
      "cell_type": "code",
      "source": [
        "import math\n",
        "import os\n",
        "import random\n",
        "import re\n",
        "import sys\n",
        "import nltk\n",
        "from nltk.corpus import PlaintextCorpusReader\n",
        "import nltk.data\n",
        "\t\n",
        "#\n",
        "# Complete the 'createUserTextCorpora' function below.\n",
        "#\n",
        "# The function accepts following parameters:\n",
        "#  1. STRING filecontent1\n",
        "#  2. STRING filecontent2\n",
        "#\n",
        "\n",
        "def createUserTextCorpora(filecontent1, filecontent2):\n",
        "    # Write your code here\n",
        "    \n",
        "    with open(os.path.join('nltk_data/','content1.txt'),\"w\") as file1:\n",
        "        file1.write(filecontent1) \n",
        "        file1.close()\n",
        "    with open(os.path.join('nltk_data/','content2.txt'),\"w\") as file2:\n",
        "        file2.write(filecontent2) \n",
        "        file2.close()\n",
        "\n",
        "    text_corpus = PlaintextCorpusReader('nltk_data/','.*') \n",
        "    no_of_words_corpus1 = len(text_corpus.words('content1.txt'))\n",
        "    no_of_words_corpus2 = len(text_corpus.words('content2.txt'))\n",
        "    no_of_unique_words_corpus1 = len(set(text_corpus.words('content1.txt')))\n",
        "    no_of_unique_words_corpus2 = len(set(text_corpus.words('content2.txt')))\n",
        "    \n",
        "    return text_corpus,no_of_words_corpus1,no_of_unique_words_corpus1,no_of_words_corpus2,no_of_unique_words_corpus2\n",
        "if __name__ == '__main__':\n",
        "    filecontent1 = input()\n",
        "\n",
        "    filecontent2 = input()\n",
        "\n",
        "    path = os.path.join(os.getcwd(), \"nltk_data\")\n",
        "    os.makedirs(path, exist_ok=True)\n",
        "    for file in os.listdir(path):\n",
        "        os.remove(path+\"\\\\\"+file)\n",
        "\n",
        "    text_corpus, no_of_words_corpus1, no_of_unique_words_corpus1, no_of_words_corpus2, no_of_unique_words_corpus2 = createUserTextCorpora(filecontent1, filecontent2)\n",
        "    expected_corpus_files = ['content1.txt', 'content2.txt']\n",
        "    if type(text_corpus) == nltk.corpus.reader.plaintext.PlaintextCorpusReader and sorted(list(text_corpus.fileids())) == expected_corpus_files:\n",
        "        print(no_of_words_corpus1)\n",
        "        print(no_of_unique_words_corpus1)\n",
        "        print(no_of_words_corpus2)\n",
        "        print(no_of_unique_words_corpus2)\n",
        "\n"
      ],
      "metadata": {
        "colab": {
          "base_uri": "https://localhost:8080/"
        },
        "id": "-VzFsmuJg25k",
        "outputId": "235fe3bc-3b32-4b3f-ccca-aceb8e93d0a8"
      },
      "execution_count": null,
      "outputs": [
        {
          "output_type": "stream",
          "name": "stdout",
          "text": [
            "hi\n",
            "hello\n",
            "1\n",
            "1\n",
            "1\n",
            "1\n"
          ]
        }
      ]
    },
    {
      "cell_type": "code",
      "source": [
        "for i in range(len(data)):\n",
        "  no_of_words = len(data.text[i])\n",
        "  no_of_unique_words = len(set(data.text[i]))\n",
        "no_of_words\n",
        "no_of_unique_words"
      ],
      "metadata": {
        "colab": {
          "base_uri": "https://localhost:8080/",
          "height": 165
        },
        "id": "eQhFxN_Bg_zH",
        "outputId": "3341c1a3-952d-455b-c3a1-872ccfb3a55f"
      },
      "execution_count": null,
      "outputs": [
        {
          "output_type": "error",
          "ename": "NameError",
          "evalue": "ignored",
          "traceback": [
            "\u001b[0;31m---------------------------------------------------------------------------\u001b[0m",
            "\u001b[0;31mNameError\u001b[0m                                 Traceback (most recent call last)",
            "\u001b[0;32m<ipython-input-5-21dcf2c3dc77>\u001b[0m in \u001b[0;36m<module>\u001b[0;34m\u001b[0m\n\u001b[0;32m----> 1\u001b[0;31m \u001b[0mno\u001b[0m\u001b[0;34m=\u001b[0m\u001b[0mlen\u001b[0m\u001b[0;34m(\u001b[0m\u001b[0mdata\u001b[0m\u001b[0;34m.\u001b[0m\u001b[0mtext\u001b[0m\u001b[0;34m)\u001b[0m\u001b[0;34m\u001b[0m\u001b[0;34m\u001b[0m\u001b[0m\n\u001b[0m",
            "\u001b[0;31mNameError\u001b[0m: name 'data' is not defined"
          ]
        }
      ]
    }
  ],
  "metadata": {
    "colab": {
      "collapsed_sections": [],
      "provenance": [],
      "include_colab_link": true
    },
    "kernelspec": {
      "display_name": "Python 3",
      "name": "python3"
    }
  },
  "nbformat": 4,
  "nbformat_minor": 0
}